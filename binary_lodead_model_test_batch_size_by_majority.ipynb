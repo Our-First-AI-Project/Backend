{
 "cells": [
  {
   "cell_type": "code",
   "execution_count": 1,
   "metadata": {},
   "outputs": [],
   "source": [
    "# input 이미지를 5분할하는 함수\n",
    "def image_crop(file, image_width, image_height, cropped_width, cropped_height):\n",
    "    cropped_images = []\n",
    "    x = 0\n",
    "    x_center = image_width // 2\n",
    "    y_center = image_height // 2\n",
    "    \n",
    "    while x < image_width:\n",
    "        y = 0\n",
    "        while y < image_height:\n",
    "            cropped_image = file[x : x + cropped_width, y : y + cropped_height]\n",
    "            cropped_images.append(cropped_image)\n",
    "            y += cropped_height\n",
    "        x += cropped_width\n",
    "    \n",
    "    center_image = file[x_center - cropped_width // 2 : x_center + cropped_width // 2,\n",
    "                       y_center - cropped_height // 2 : y_center + cropped_height // 2]\n",
    "    \n",
    "    cropped_images.append(center_image)\n",
    "    \n",
    "    return cropped_images"
   ]
  },
  {
   "cell_type": "code",
   "execution_count": 2,
   "metadata": {},
   "outputs": [],
   "source": [
    "# 이미지를 조작하고 다룰 수 있게 처리해주는 함수\n",
    "def data_generator(file, image_width, image_height):\n",
    "    img_bgr = cv2.imread(file, cv2.IMREAD_COLOR)\n",
    "    img_rgb = cv2.cvtColor(img_bgr, cv2.COLOR_BGR2RGB)\n",
    "    img = cv2.resize(img_rgb, (image_width, image_height))\n",
    "\n",
    "    return img"
   ]
  },
  {
   "cell_type": "code",
   "execution_count": 3,
   "metadata": {},
   "outputs": [],
   "source": [
    "import cv2\n",
    "import os, glob, numpy as np\n",
    "from tensorflow.keras.models import load_model\n",
    "import tensorflow as tf\n",
    "import pandas as pd\n",
    "\n",
    "img_dir = './binary_cnn_majority/test'\n",
    "categories = ['ad', 'non_ad']\n",
    "\n",
    "image_width = 180 # 사이즈 수정\n",
    "image_height = 180\n",
    "\n",
    "X = [] # 5분할 한 input 이미지\n",
    "y = [] # input의 실제 분류 값 * 5\n",
    "X_original = [] # input 이미지\n",
    "y_original = [] # input의 실제 분류 값\n",
    "index = []\n",
    "files = []\n",
    "filenames = []\n",
    "\n",
    "n = 0\n",
    "df = pd.DataFrame(index=['img_num'], columns=['y', 'pred', 'X_0', 'X_1', 'X_2', 'X_3', 'X_4', 'category'])\n",
    "# y는 실제 분류 값, pred는 모델이 예측한 값\n",
    "\n",
    "for i, category in enumerate(categories):\n",
    "    img_detail = img_dir + '/' + category\n",
    "\n",
    "    files.append(glob.glob(img_detail + \"/*.jpg\"))\n",
    "    index.append(i)"
   ]
  },
  {
   "cell_type": "code",
   "execution_count": 4,
   "metadata": {},
   "outputs": [
    {
     "name": "stdout",
     "output_type": "stream",
     "text": [
      "3200 3200\n",
      "640 640\n",
      "           y pred  X_0  X_1  X_2  X_3  X_4 category\n",
      "img_num  NaN  NaN  NaN  NaN  NaN  NaN  NaN      NaN\n",
      "0          0  NaN  NaN  NaN  NaN  NaN  NaN      NaN\n",
      "1          0  NaN  NaN  NaN  NaN  NaN  NaN      NaN\n",
      "2          0  NaN  NaN  NaN  NaN  NaN  NaN      NaN\n",
      "3          0  NaN  NaN  NaN  NaN  NaN  NaN      NaN\n",
      "...      ...  ...  ...  ...  ...  ...  ...      ...\n",
      "635        1  NaN  NaN  NaN  NaN  NaN  NaN      NaN\n",
      "636        1  NaN  NaN  NaN  NaN  NaN  NaN      NaN\n",
      "637        1  NaN  NaN  NaN  NaN  NaN  NaN      NaN\n",
      "638        1  NaN  NaN  NaN  NaN  NaN  NaN      NaN\n",
      "639        1  NaN  NaN  NaN  NaN  NaN  NaN      NaN\n",
      "\n",
      "[641 rows x 8 columns]\n"
     ]
    }
   ],
   "source": [
    "for file, i in zip(files, index):\n",
    "    for f in file:\n",
    "        try:\n",
    "            img = data_generator(f, image_width, image_height)\n",
    "        \n",
    "            original_data = np.asarray(img)\n",
    "            X_original.append(original_data)\n",
    "            y_original.append(i)\n",
    "\n",
    "            df.loc[n, 'y'] = i\n",
    "            n += 1\n",
    "\n",
    "            cropped_images = image_crop(img, image_width, image_height, image_width // 2, image_height // 2)\n",
    "\n",
    "            for cropped_image in cropped_images:\n",
    "                data = np.asarray(cropped_image)\n",
    "\n",
    "                head, tail = os.path.split(f)\n",
    "                filenames.append(tail)\n",
    "\n",
    "                X.append(data)\n",
    "                y.append(i)\n",
    "                \n",
    "        except Exception as e:\n",
    "            print(i,'번째에서 에러')\n",
    "\n",
    "X = np.array(X)\n",
    "y = np.array(y)\n",
    "X_original = np.array(X_original)\n",
    "y_original = np.array(y_original)\n",
    "\n",
    "X = X.astype('float32') / 255\n",
    "\n",
    "print(len(X), len(y))\n",
    "print(len(X_original), len(y_original))\n",
    "\n",
    "\"\"\"인자 바꾸기\"\"\"\n",
    "\n",
    "print(df)"
   ]
  },
  {
   "cell_type": "code",
   "execution_count": 5,
   "metadata": {},
   "outputs": [],
   "source": [
    "def print_scores(X, y, prediction):\n",
    "    print('confusion matrix 결과')\n",
    "    print(confusion_matrix(y, prediction, labels=[0, 1])) # 0: 광고, 1: 비광고\n",
    "\n",
    "    print('precision 개별값')\n",
    "    print(list(map('{:2.2f}%'.format, precision_score(y, prediction, average=None) * 100))) # precision 개별 값\n",
    "    print('recall 개별값')\n",
    "    print(list(map('{:2.2f}%'.format, recall_score(y, prediction, average=None) * 100)))\n",
    "\n",
    "    \n",
    "    print('f1 점수')\n",
    "    print('{:2.2f}%'.format(f1_score(y, prediction, average='macro') * 100))\n",
    "\n",
    "    print('precision 평균값')\n",
    "    print('{:2.2f}%'.format(precision_score(y, prediction, average='macro') * 100)) # precision 평균 값\n",
    "    \n",
    "    print('recall 평균값')\n",
    "    print('{:2.2f}%'.format(recall_score(y, prediction, average='macro') * 100))"
   ]
  },
  {
   "cell_type": "code",
   "execution_count": 6,
   "metadata": {},
   "outputs": [],
   "source": [
    "import pandas as pd\n",
    "from sklearn.metrics import confusion_matrix\n",
    "from sklearn.metrics import recall_score\n",
    "from sklearn.metrics import precision_score\n",
    "from sklearn.metrics import f1_score\n",
    "\n",
    "\n",
    "model_evaluate = []\n",
    "f1 = []\n",
    "precision = []\n",
    "recall = []\n",
    "\n",
    "\n",
    "model = load_model('./binary_cnn_majority/model/size/binary_model_saved180.h5') # 모델 경로 수정\n",
    "\n",
    "prediction = model.predict(X)\n",
    "np.set_printoptions(formatter={'float': lambda x: \"{0:0.3f}\".format(x)}) # 소수점 3자리까지 표기\n",
    "\n",
    "prediction_original = []    \n",
    "count = []\n",
    "\n",
    "n = 0\n",
    "\n",
    "# print(prediction)\n",
    "# print(prediction.shape)"
   ]
  },
  {
   "cell_type": "code",
   "execution_count": 7,
   "metadata": {},
   "outputs": [
    {
     "name": "stdout",
     "output_type": "stream",
     "text": [
      "투표 결과\n",
      "640 640\n",
      "confusion matrix 결과\n",
      "[[303  17]\n",
      " [ 21 299]]\n",
      "precision 개별값\n",
      "['93.52%', '94.62%']\n",
      "recall 개별값\n",
      "['94.69%', '93.44%']\n",
      "f1 점수\n",
      "94.06%\n",
      "precision 평균값\n",
      "94.07%\n",
      "recall 평균값\n",
      "94.06%\n"
     ]
    }
   ],
   "source": [
    "for p in prediction:\n",
    "    is_ad = 0\n",
    "    not_ad = 0\n",
    "    amax = []\n",
    "\n",
    "    count.append(p)\n",
    "    \n",
    "    if(len(count) == 1):\n",
    "        df.loc[n, 'X_0'] = p\n",
    "        continue\n",
    "\n",
    "    elif(len(count) == 2):\n",
    "        df.loc[n, 'X_1'] = p\n",
    "        continue\n",
    "        \n",
    "    elif(len(count) == 3):\n",
    "        df.loc[n, 'X_2'] = p\n",
    "        continue    \n",
    "        \n",
    "    elif(len(count) == 4):\n",
    "        df.loc[n, 'X_3'] = p\n",
    "        continue\n",
    "        \n",
    "    elif len(count) == 5:\n",
    "        df.loc[n, 'X_4'] = p\n",
    "        \n",
    "        for c in count:\n",
    "            amax.append(c.round())\n",
    "            if c.round() == 0:\n",
    "                is_ad += 1\n",
    "            elif c.round() == 1:\n",
    "                not_ad += 1\n",
    "\n",
    "        if is_ad > not_ad:\n",
    "            prediction_original.append(0)\n",
    "    \n",
    "            df.loc[n, 'pred'] = 0\n",
    "            n += 1\n",
    "            \n",
    "        else:\n",
    "            prediction_original.append(1)\n",
    "            \n",
    "            df.loc[n, 'pred'] = 1\n",
    "            n += 1\n",
    "\n",
    "        count = []\n",
    "\n",
    "\n",
    "print('투표 결과')\n",
    "print(len(y_original), len(prediction_original))\n",
    "print_scores(X_original, y_original, prediction_original)\n",
    "precision.append(precision_score(y_original, prediction_original, average='macro') * 100)\n",
    "recall.append(recall_score(y_original, prediction_original, average='macro') * 100)\n",
    "f1.append(f1_score(y_original, prediction_original, average='macro') * 100)\n"
   ]
  },
  {
   "cell_type": "code",
   "execution_count": 8,
   "metadata": {},
   "outputs": [],
   "source": [
    "df.to_csv('./test_prediction_for_each_file_new.csv', sep=',', na_rep='NaN')"
   ]
  },
  {
   "cell_type": "code",
   "execution_count": 11,
   "metadata": {},
   "outputs": [
    {
     "data": {
      "text/html": [
       "<div>\n",
       "<style scoped>\n",
       "    .dataframe tbody tr th:only-of-type {\n",
       "        vertical-align: middle;\n",
       "    }\n",
       "\n",
       "    .dataframe tbody tr th {\n",
       "        vertical-align: top;\n",
       "    }\n",
       "\n",
       "    .dataframe thead th {\n",
       "        text-align: right;\n",
       "    }\n",
       "</style>\n",
       "<table border=\"1\" class=\"dataframe\">\n",
       "  <thead>\n",
       "    <tr style=\"text-align: right;\">\n",
       "      <th></th>\n",
       "      <th>Unnamed: 0</th>\n",
       "      <th>y</th>\n",
       "      <th>pred</th>\n",
       "      <th>X_0</th>\n",
       "      <th>X_1</th>\n",
       "      <th>X_2</th>\n",
       "      <th>X_3</th>\n",
       "      <th>X_4</th>\n",
       "      <th>category</th>\n",
       "    </tr>\n",
       "  </thead>\n",
       "  <tbody>\n",
       "    <tr>\n",
       "      <th>0</th>\n",
       "      <td>img_num</td>\n",
       "      <td>NaN</td>\n",
       "      <td>NaN</td>\n",
       "      <td>NaN</td>\n",
       "      <td>NaN</td>\n",
       "      <td>NaN</td>\n",
       "      <td>NaN</td>\n",
       "      <td>NaN</td>\n",
       "      <td>NaN</td>\n",
       "    </tr>\n",
       "    <tr>\n",
       "      <th>1</th>\n",
       "      <td>0</td>\n",
       "      <td>0.0</td>\n",
       "      <td>0.0</td>\n",
       "      <td>[0.000]</td>\n",
       "      <td>[0.000]</td>\n",
       "      <td>[0.000]</td>\n",
       "      <td>[0.000]</td>\n",
       "      <td>[0.000]</td>\n",
       "      <td>lotto_N</td>\n",
       "    </tr>\n",
       "    <tr>\n",
       "      <th>2</th>\n",
       "      <td>1</td>\n",
       "      <td>0.0</td>\n",
       "      <td>0.0</td>\n",
       "      <td>[0.000]</td>\n",
       "      <td>[0.013]</td>\n",
       "      <td>[0.007]</td>\n",
       "      <td>[0.251]</td>\n",
       "      <td>[0.000]</td>\n",
       "      <td>part_of_human</td>\n",
       "    </tr>\n",
       "    <tr>\n",
       "      <th>3</th>\n",
       "      <td>2</td>\n",
       "      <td>0.0</td>\n",
       "      <td>0.0</td>\n",
       "      <td>[0.021]</td>\n",
       "      <td>[0.001]</td>\n",
       "      <td>[0.034]</td>\n",
       "      <td>[0.001]</td>\n",
       "      <td>[0.033]</td>\n",
       "      <td>microbe</td>\n",
       "    </tr>\n",
       "    <tr>\n",
       "      <th>4</th>\n",
       "      <td>3</td>\n",
       "      <td>0.0</td>\n",
       "      <td>1.0</td>\n",
       "      <td>[0.669]</td>\n",
       "      <td>[0.149]</td>\n",
       "      <td>[0.790]</td>\n",
       "      <td>[0.846]</td>\n",
       "      <td>[0.030]</td>\n",
       "      <td>graph</td>\n",
       "    </tr>\n",
       "  </tbody>\n",
       "</table>\n",
       "</div>"
      ],
      "text/plain": [
       "  Unnamed: 0    y  pred      X_0      X_1      X_2      X_3      X_4  \\\n",
       "0    img_num  NaN   NaN      NaN      NaN      NaN      NaN      NaN   \n",
       "1          0  0.0   0.0  [0.000]  [0.000]  [0.000]  [0.000]  [0.000]   \n",
       "2          1  0.0   0.0  [0.000]  [0.013]  [0.007]  [0.251]  [0.000]   \n",
       "3          2  0.0   0.0  [0.021]  [0.001]  [0.034]  [0.001]  [0.033]   \n",
       "4          3  0.0   1.0  [0.669]  [0.149]  [0.790]  [0.846]  [0.030]   \n",
       "\n",
       "        category  \n",
       "0            NaN  \n",
       "1        lotto_N  \n",
       "2  part_of_human  \n",
       "3        microbe  \n",
       "4          graph  "
      ]
     },
     "execution_count": 11,
     "metadata": {},
     "output_type": "execute_result"
    }
   ],
   "source": [
    "data = pd.read_csv('./test_prediction_for_each_file_new.csv')\n",
    "data.head()"
   ]
  },
  {
   "cell_type": "code",
   "execution_count": 12,
   "metadata": {},
   "outputs": [
    {
     "data": {
      "text/html": [
       "<div>\n",
       "<style scoped>\n",
       "    .dataframe tbody tr th:only-of-type {\n",
       "        vertical-align: middle;\n",
       "    }\n",
       "\n",
       "    .dataframe tbody tr th {\n",
       "        vertical-align: top;\n",
       "    }\n",
       "\n",
       "    .dataframe thead th {\n",
       "        text-align: right;\n",
       "    }\n",
       "</style>\n",
       "<table border=\"1\" class=\"dataframe\">\n",
       "  <thead>\n",
       "    <tr style=\"text-align: right;\">\n",
       "      <th></th>\n",
       "      <th>img_num</th>\n",
       "      <th>y</th>\n",
       "      <th>pred</th>\n",
       "      <th>X_0</th>\n",
       "      <th>X_1</th>\n",
       "      <th>X_2</th>\n",
       "      <th>X_3</th>\n",
       "      <th>X_4</th>\n",
       "      <th>category</th>\n",
       "    </tr>\n",
       "  </thead>\n",
       "  <tbody>\n",
       "    <tr>\n",
       "      <th>0</th>\n",
       "      <td>img_num</td>\n",
       "      <td>NaN</td>\n",
       "      <td>NaN</td>\n",
       "      <td>NaN</td>\n",
       "      <td>NaN</td>\n",
       "      <td>NaN</td>\n",
       "      <td>NaN</td>\n",
       "      <td>NaN</td>\n",
       "      <td>NaN</td>\n",
       "    </tr>\n",
       "    <tr>\n",
       "      <th>1</th>\n",
       "      <td>0</td>\n",
       "      <td>0.0</td>\n",
       "      <td>0.0</td>\n",
       "      <td>[0.000]</td>\n",
       "      <td>[0.000]</td>\n",
       "      <td>[0.000]</td>\n",
       "      <td>[0.000]</td>\n",
       "      <td>[0.000]</td>\n",
       "      <td>lotto_N</td>\n",
       "    </tr>\n",
       "    <tr>\n",
       "      <th>2</th>\n",
       "      <td>1</td>\n",
       "      <td>0.0</td>\n",
       "      <td>0.0</td>\n",
       "      <td>[0.000]</td>\n",
       "      <td>[0.013]</td>\n",
       "      <td>[0.007]</td>\n",
       "      <td>[0.251]</td>\n",
       "      <td>[0.000]</td>\n",
       "      <td>part_of_human</td>\n",
       "    </tr>\n",
       "    <tr>\n",
       "      <th>3</th>\n",
       "      <td>2</td>\n",
       "      <td>0.0</td>\n",
       "      <td>0.0</td>\n",
       "      <td>[0.021]</td>\n",
       "      <td>[0.001]</td>\n",
       "      <td>[0.034]</td>\n",
       "      <td>[0.001]</td>\n",
       "      <td>[0.033]</td>\n",
       "      <td>microbe</td>\n",
       "    </tr>\n",
       "    <tr>\n",
       "      <th>4</th>\n",
       "      <td>3</td>\n",
       "      <td>0.0</td>\n",
       "      <td>1.0</td>\n",
       "      <td>[0.669]</td>\n",
       "      <td>[0.149]</td>\n",
       "      <td>[0.790]</td>\n",
       "      <td>[0.846]</td>\n",
       "      <td>[0.030]</td>\n",
       "      <td>graph</td>\n",
       "    </tr>\n",
       "  </tbody>\n",
       "</table>\n",
       "</div>"
      ],
      "text/plain": [
       "   img_num    y  pred      X_0      X_1      X_2      X_3      X_4  \\\n",
       "0  img_num  NaN   NaN      NaN      NaN      NaN      NaN      NaN   \n",
       "1        0  0.0   0.0  [0.000]  [0.000]  [0.000]  [0.000]  [0.000]   \n",
       "2        1  0.0   0.0  [0.000]  [0.013]  [0.007]  [0.251]  [0.000]   \n",
       "3        2  0.0   0.0  [0.021]  [0.001]  [0.034]  [0.001]  [0.033]   \n",
       "4        3  0.0   1.0  [0.669]  [0.149]  [0.790]  [0.846]  [0.030]   \n",
       "\n",
       "        category  \n",
       "0            NaN  \n",
       "1        lotto_N  \n",
       "2  part_of_human  \n",
       "3        microbe  \n",
       "4          graph  "
      ]
     },
     "execution_count": 12,
     "metadata": {},
     "output_type": "execute_result"
    }
   ],
   "source": [
    "data.rename(columns={'Unnamed: 0' : 'img_num'}, inplace=True)\n",
    "data.head()"
   ]
  },
  {
   "cell_type": "code",
   "execution_count": 13,
   "metadata": {},
   "outputs": [
    {
     "data": {
      "text/html": [
       "<div>\n",
       "<style scoped>\n",
       "    .dataframe tbody tr th:only-of-type {\n",
       "        vertical-align: middle;\n",
       "    }\n",
       "\n",
       "    .dataframe tbody tr th {\n",
       "        vertical-align: top;\n",
       "    }\n",
       "\n",
       "    .dataframe thead th {\n",
       "        text-align: right;\n",
       "    }\n",
       "</style>\n",
       "<table border=\"1\" class=\"dataframe\">\n",
       "  <thead>\n",
       "    <tr style=\"text-align: right;\">\n",
       "      <th></th>\n",
       "      <th>img_num</th>\n",
       "      <th>y</th>\n",
       "      <th>pred</th>\n",
       "      <th>X_0</th>\n",
       "      <th>X_1</th>\n",
       "      <th>X_2</th>\n",
       "      <th>X_3</th>\n",
       "      <th>X_4</th>\n",
       "      <th>category</th>\n",
       "    </tr>\n",
       "  </thead>\n",
       "  <tbody>\n",
       "    <tr>\n",
       "      <th>1</th>\n",
       "      <td>0</td>\n",
       "      <td>0.0</td>\n",
       "      <td>0.0</td>\n",
       "      <td>[0.000]</td>\n",
       "      <td>[0.000]</td>\n",
       "      <td>[0.000]</td>\n",
       "      <td>[0.000]</td>\n",
       "      <td>[0.000]</td>\n",
       "      <td>lotto_N</td>\n",
       "    </tr>\n",
       "    <tr>\n",
       "      <th>2</th>\n",
       "      <td>1</td>\n",
       "      <td>0.0</td>\n",
       "      <td>0.0</td>\n",
       "      <td>[0.000]</td>\n",
       "      <td>[0.013]</td>\n",
       "      <td>[0.007]</td>\n",
       "      <td>[0.251]</td>\n",
       "      <td>[0.000]</td>\n",
       "      <td>part_of_human</td>\n",
       "    </tr>\n",
       "    <tr>\n",
       "      <th>3</th>\n",
       "      <td>2</td>\n",
       "      <td>0.0</td>\n",
       "      <td>0.0</td>\n",
       "      <td>[0.021]</td>\n",
       "      <td>[0.001]</td>\n",
       "      <td>[0.034]</td>\n",
       "      <td>[0.001]</td>\n",
       "      <td>[0.033]</td>\n",
       "      <td>microbe</td>\n",
       "    </tr>\n",
       "    <tr>\n",
       "      <th>4</th>\n",
       "      <td>3</td>\n",
       "      <td>0.0</td>\n",
       "      <td>1.0</td>\n",
       "      <td>[0.669]</td>\n",
       "      <td>[0.149]</td>\n",
       "      <td>[0.790]</td>\n",
       "      <td>[0.846]</td>\n",
       "      <td>[0.030]</td>\n",
       "      <td>graph</td>\n",
       "    </tr>\n",
       "    <tr>\n",
       "      <th>5</th>\n",
       "      <td>4</td>\n",
       "      <td>0.0</td>\n",
       "      <td>0.0</td>\n",
       "      <td>[0.002]</td>\n",
       "      <td>[0.001]</td>\n",
       "      <td>[0.002]</td>\n",
       "      <td>[0.000]</td>\n",
       "      <td>[0.033]</td>\n",
       "      <td>lotto_P</td>\n",
       "    </tr>\n",
       "  </tbody>\n",
       "</table>\n",
       "</div>"
      ],
      "text/plain": [
       "  img_num    y  pred      X_0      X_1      X_2      X_3      X_4  \\\n",
       "1       0  0.0   0.0  [0.000]  [0.000]  [0.000]  [0.000]  [0.000]   \n",
       "2       1  0.0   0.0  [0.000]  [0.013]  [0.007]  [0.251]  [0.000]   \n",
       "3       2  0.0   0.0  [0.021]  [0.001]  [0.034]  [0.001]  [0.033]   \n",
       "4       3  0.0   1.0  [0.669]  [0.149]  [0.790]  [0.846]  [0.030]   \n",
       "5       4  0.0   0.0  [0.002]  [0.001]  [0.002]  [0.000]  [0.033]   \n",
       "\n",
       "        category  \n",
       "1        lotto_N  \n",
       "2  part_of_human  \n",
       "3        microbe  \n",
       "4          graph  \n",
       "5        lotto_P  "
      ]
     },
     "execution_count": 13,
     "metadata": {},
     "output_type": "execute_result"
    }
   ],
   "source": [
    "data.drop(0, axis=0, inplace=True)\n",
    "data.head()"
   ]
  },
  {
   "cell_type": "code",
   "execution_count": 14,
   "metadata": {},
   "outputs": [
    {
     "data": {
      "text/html": [
       "<div>\n",
       "<style scoped>\n",
       "    .dataframe tbody tr th:only-of-type {\n",
       "        vertical-align: middle;\n",
       "    }\n",
       "\n",
       "    .dataframe tbody tr th {\n",
       "        vertical-align: top;\n",
       "    }\n",
       "\n",
       "    .dataframe thead th {\n",
       "        text-align: right;\n",
       "    }\n",
       "</style>\n",
       "<table border=\"1\" class=\"dataframe\">\n",
       "  <thead>\n",
       "    <tr style=\"text-align: right;\">\n",
       "      <th></th>\n",
       "      <th>img_num</th>\n",
       "      <th>y</th>\n",
       "      <th>pred</th>\n",
       "      <th>X_0</th>\n",
       "      <th>X_1</th>\n",
       "      <th>X_2</th>\n",
       "      <th>X_3</th>\n",
       "      <th>X_4</th>\n",
       "      <th>category</th>\n",
       "      <th>unmatch</th>\n",
       "    </tr>\n",
       "  </thead>\n",
       "  <tbody>\n",
       "    <tr>\n",
       "      <th>1</th>\n",
       "      <td>0</td>\n",
       "      <td>0.0</td>\n",
       "      <td>0.0</td>\n",
       "      <td>[0.000]</td>\n",
       "      <td>[0.000]</td>\n",
       "      <td>[0.000]</td>\n",
       "      <td>[0.000]</td>\n",
       "      <td>[0.000]</td>\n",
       "      <td>lotto_N</td>\n",
       "      <td>0.0</td>\n",
       "    </tr>\n",
       "    <tr>\n",
       "      <th>2</th>\n",
       "      <td>1</td>\n",
       "      <td>0.0</td>\n",
       "      <td>0.0</td>\n",
       "      <td>[0.000]</td>\n",
       "      <td>[0.013]</td>\n",
       "      <td>[0.007]</td>\n",
       "      <td>[0.251]</td>\n",
       "      <td>[0.000]</td>\n",
       "      <td>part_of_human</td>\n",
       "      <td>0.0</td>\n",
       "    </tr>\n",
       "    <tr>\n",
       "      <th>3</th>\n",
       "      <td>2</td>\n",
       "      <td>0.0</td>\n",
       "      <td>0.0</td>\n",
       "      <td>[0.021]</td>\n",
       "      <td>[0.001]</td>\n",
       "      <td>[0.034]</td>\n",
       "      <td>[0.001]</td>\n",
       "      <td>[0.033]</td>\n",
       "      <td>microbe</td>\n",
       "      <td>0.0</td>\n",
       "    </tr>\n",
       "    <tr>\n",
       "      <th>4</th>\n",
       "      <td>3</td>\n",
       "      <td>0.0</td>\n",
       "      <td>1.0</td>\n",
       "      <td>[0.669]</td>\n",
       "      <td>[0.149]</td>\n",
       "      <td>[0.790]</td>\n",
       "      <td>[0.846]</td>\n",
       "      <td>[0.030]</td>\n",
       "      <td>graph</td>\n",
       "      <td>1.0</td>\n",
       "    </tr>\n",
       "    <tr>\n",
       "      <th>5</th>\n",
       "      <td>4</td>\n",
       "      <td>0.0</td>\n",
       "      <td>0.0</td>\n",
       "      <td>[0.002]</td>\n",
       "      <td>[0.001]</td>\n",
       "      <td>[0.002]</td>\n",
       "      <td>[0.000]</td>\n",
       "      <td>[0.033]</td>\n",
       "      <td>lotto_P</td>\n",
       "      <td>0.0</td>\n",
       "    </tr>\n",
       "  </tbody>\n",
       "</table>\n",
       "</div>"
      ],
      "text/plain": [
       "  img_num    y  pred      X_0      X_1      X_2      X_3      X_4  \\\n",
       "1       0  0.0   0.0  [0.000]  [0.000]  [0.000]  [0.000]  [0.000]   \n",
       "2       1  0.0   0.0  [0.000]  [0.013]  [0.007]  [0.251]  [0.000]   \n",
       "3       2  0.0   0.0  [0.021]  [0.001]  [0.034]  [0.001]  [0.033]   \n",
       "4       3  0.0   1.0  [0.669]  [0.149]  [0.790]  [0.846]  [0.030]   \n",
       "5       4  0.0   0.0  [0.002]  [0.001]  [0.002]  [0.000]  [0.033]   \n",
       "\n",
       "        category  unmatch  \n",
       "1        lotto_N      0.0  \n",
       "2  part_of_human      0.0  \n",
       "3        microbe      0.0  \n",
       "4          graph      1.0  \n",
       "5        lotto_P      0.0  "
      ]
     },
     "execution_count": 14,
     "metadata": {},
     "output_type": "execute_result"
    }
   ],
   "source": [
    "data['unmatch'] = data['pred'] - data['y']\n",
    "data.head()"
   ]
  },
  {
   "cell_type": "code",
   "execution_count": 15,
   "metadata": {},
   "outputs": [
    {
     "data": {
      "text/plain": [
       "non_ad             320\n",
       "human               33\n",
       "picture             32\n",
       "graph               30\n",
       "microbe             29\n",
       "photoshop           29\n",
       "lotto_P             29\n",
       "bill                29\n",
       "general_product     28\n",
       "lotto_N             28\n",
       "part_of_human       27\n",
       "coin                26\n",
       "Name: category, dtype: int64"
      ]
     },
     "execution_count": 15,
     "metadata": {},
     "output_type": "execute_result"
    }
   ],
   "source": [
    "data['category'].value_counts()"
   ]
  },
  {
   "cell_type": "code",
   "execution_count": 16,
   "metadata": {},
   "outputs": [
    {
     "data": {
      "text/plain": [
       " 0.0    602\n",
       "-1.0     21\n",
       " 1.0     17\n",
       "Name: unmatch, dtype: int64"
      ]
     },
     "execution_count": 16,
     "metadata": {},
     "output_type": "execute_result"
    }
   ],
   "source": [
    "data['unmatch'].value_counts()"
   ]
  },
  {
   "cell_type": "code",
   "execution_count": 17,
   "metadata": {},
   "outputs": [],
   "source": [
    "d = data.groupby('category')[['unmatch']].sum()"
   ]
  },
  {
   "cell_type": "code",
   "execution_count": 18,
   "metadata": {},
   "outputs": [],
   "source": [
    "d['total'] = [29, 26, 28, 30, 33, 28, 29, 29, 320, 27, 29, 32]"
   ]
  },
  {
   "cell_type": "code",
   "execution_count": 19,
   "metadata": {},
   "outputs": [
    {
     "name": "stdout",
     "output_type": "stream",
     "text": [
      "                 unmatch  total\n",
      "category                       \n",
      "bill                 2.0     29\n",
      "coin                 1.0     26\n",
      "general_product      0.0     28\n",
      "graph                4.0     30\n",
      "human                1.0     33\n",
      "lotto_N              2.0     28\n",
      "lotto_P              1.0     29\n",
      "microbe              0.0     29\n",
      "non_ad              21.0    320\n",
      "part_of_human        1.0     27\n",
      "photoshop            2.0     29\n",
      "picture              3.0     32\n"
     ]
    }
   ],
   "source": [
    "d.loc['non_ad', 'unmatch'] = 21.0\n",
    "print(d)"
   ]
  },
  {
   "cell_type": "code",
   "execution_count": 20,
   "metadata": {},
   "outputs": [
    {
     "name": "stdout",
     "output_type": "stream",
     "text": [
      "                 unmatch  total     ratio\n",
      "category                                 \n",
      "bill                 2.0     29  0.931034\n",
      "coin                 1.0     26  0.961538\n",
      "general_product      0.0     28  1.000000\n",
      "graph                4.0     30  0.866667\n",
      "human                1.0     33  0.969697\n",
      "lotto_N              2.0     28  0.928571\n",
      "lotto_P              1.0     29  0.965517\n",
      "microbe              0.0     29  1.000000\n",
      "non_ad              21.0    320  0.934375\n",
      "part_of_human        1.0     27  0.962963\n",
      "photoshop            2.0     29  0.931034\n",
      "picture              3.0     32  0.906250\n"
     ]
    }
   ],
   "source": [
    "d['ratio'] = 1 - (d['unmatch'] / d['total'])\n",
    "print(d)"
   ]
  },
  {
   "cell_type": "code",
   "execution_count": 21,
   "metadata": {},
   "outputs": [],
   "source": [
    "import matplotlib.pyplot as plt\n",
    "import seaborn as sns"
   ]
  },
  {
   "cell_type": "code",
   "execution_count": 22,
   "metadata": {},
   "outputs": [
    {
     "data": {
      "text/plain": [
       "<BarContainer object of 12 artists>"
      ]
     },
     "execution_count": 22,
     "metadata": {},
     "output_type": "execute_result"
    },
    {
     "data": {
      "image/png": "[encoded data removed]",
      "text/plain": [
       "<Figure size 864x432 with 1 Axes>"
      ]
     },
     "metadata": {
      "needs_background": "light"
     },
     "output_type": "display_data"
    }
   ],
   "source": [
    "# 각 카테고리별 정확도(정답인 것의 수)\n",
    "plt.figure(figsize=(12, 6))\n",
    "plt.axhline(0.9, color='red')\n",
    "plt.text(0.01, 0.85, '0.9', color='red')\n",
    "plt.title('correct_ratio')\n",
    "plt.bar(d.index, d['ratio'])"
   ]
  },
  {
   "cell_type": "code",
   "execution_count": 23,
   "metadata": {},
   "outputs": [],
   "source": [
    "u = data.loc[data['y'] != data['pred']]"
   ]
  },
  {
   "cell_type": "code",
   "execution_count": 24,
   "metadata": {},
   "outputs": [
    {
     "name": "stdout",
     "output_type": "stream",
     "text": [
      "non_ad           21\n",
      "graph             4\n",
      "picture           3\n",
      "photoshop         2\n",
      "lotto_N           2\n",
      "bill              2\n",
      "human             1\n",
      "coin              1\n",
      "part_of_human     1\n",
      "lotto_P           1\n",
      "Name: category, dtype: int64\n"
     ]
    }
   ],
   "source": [
    "cnt = u['category'].value_counts()\n",
    "print(cnt)"
   ]
  },
  {
   "cell_type": "code",
   "execution_count": 25,
   "metadata": {},
   "outputs": [
    {
     "data": {
      "text/plain": [
       "([<matplotlib.patches.Wedge at 0x2174530fa60>,\n",
       "  <matplotlib.patches.Wedge at 0x2174530f880>,\n",
       "  <matplotlib.patches.Wedge at 0x21745116ac0>,\n",
       "  <matplotlib.patches.Wedge at 0x21745113bb0>,\n",
       "  <matplotlib.patches.Wedge at 0x217451000a0>,\n",
       "  <matplotlib.patches.Wedge at 0x217451116a0>,\n",
       "  <matplotlib.patches.Wedge at 0x217453561c0>,\n",
       "  <matplotlib.patches.Wedge at 0x2174512d760>,\n",
       "  <matplotlib.patches.Wedge at 0x21745360ca0>,\n",
       "  <matplotlib.patches.Wedge at 0x217450e6370>],\n",
       " [Text(-0.18105397445685548, 1.0849974462335736, 'non_ad'),\n",
       "  Text(-0.8680546518928156, -0.6756338663264615, 'graph'),\n",
       "  Text(-0.35716956480232015, -1.04039891482975, 'picture'),\n",
       "  Text(0.09083711390859571, -1.0962429560716718, 'photoshop'),\n",
       "  Text(0.4418648169588925, -1.007350725186558, 'lotto_N'),\n",
       "  Text(0.7450096101456386, -0.8092964109587065, 'bill'),\n",
       "  Text(0.9208830389998118, -0.6016431072342401, 'human'),\n",
       "  Text(1.007350595904109, -0.44186511169319176, 'coin'),\n",
       "  Text(1.0663402541106413, -0.2700341875823381, 'part_of_human'),\n",
       "  Text(1.0962429294941736, -0.0908374346513204, 'lotto_P')],\n",
       " [Text(-0.09875671334010297, 0.5918167888546765, '55.26%'),\n",
       "  Text(-0.47348435557789936, -0.3685275634507972, '10.53%'),\n",
       "  Text(-0.19481976261944733, -0.5674903171798636, '7.89%'),\n",
       "  Text(0.04954751667741584, -0.5979507033118209, '5.26%'),\n",
       "  Text(0.24101717288666863, -0.5494640319199408, '5.26%'),\n",
       "  Text(0.4063688782612574, -0.44143440597747624, '5.26%'),\n",
       "  Text(0.5022998394544428, -0.32816896758231273, '2.63%'),\n",
       "  Text(0.5494639614022412, -0.24101733365083183, '2.63%'),\n",
       "  Text(0.5816401386058042, -0.1472913750449117, '2.63%'),\n",
       "  Text(0.5979506888150037, -0.04954769162799293, '2.63%')])"
      ]
     },
     "execution_count": 25,
     "metadata": {},
     "output_type": "execute_result"
    },
    {
     "data": {
      "image/png": "[encoded data removed]",
      "text/plain": [
       "<Figure size 504x504 with 1 Axes>"
      ]
     },
     "metadata": {},
     "output_type": "display_data"
    }
   ],
   "source": [
    "# 오답인 것들 중 각 카테고리의 비율\n",
    "plt.figure(figsize=(7, 7))\n",
    "plt.title('unmatch ratio')\n",
    "plt.pie(cnt.values, labels=cnt.index, autopct='%.2f%%')"
   ]
  },
  {
   "cell_type": "code",
   "execution_count": 27,
   "metadata": {},
   "outputs": [
    {
     "data": {
      "image/png": "[encoded data removed]",
      "text/plain": [
       "<Figure size 432x288 with 2 Axes>"
      ]
     },
     "metadata": {
      "needs_background": "light"
     },
     "output_type": "display_data"
    }
   ],
   "source": [
    "cm = confusion_matrix(y_original, prediction_original, labels=[0,1]) # 0: 광고, 1: 비광고\n",
    "\n",
    "plt.title('confusion matrix heatmap')\n",
    "sns.heatmap(cm, annot=True, fmt='d')\n",
    "plt.show()"
   ]
  },
  {
   "cell_type": "code",
   "execution_count": 28,
   "metadata": {},
   "outputs": [],
   "source": [
    "data.to_csv('./test_prediction_with_unmatch.csv')"
   ]
  }
 ],
 "metadata": {
  "kernelspec": {
   "display_name": "Python 3",
   "language": "python",
   "name": "python3"
  },
  "language_info": {
   "codemirror_mode": {
    "name": "ipython",
    "version": 3
   },
   "file_extension": ".py",
   "mimetype": "text/x-python",
   "name": "python",
   "nbconvert_exporter": "python",
   "pygments_lexer": "ipython3",
   "version": "3.8.5"
  }
 },
 "nbformat": 4,
 "nbformat_minor": 5
}
