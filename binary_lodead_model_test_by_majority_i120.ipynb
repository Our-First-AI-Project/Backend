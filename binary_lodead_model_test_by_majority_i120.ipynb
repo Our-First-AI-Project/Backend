{
 "cells": [
  {
   "cell_type": "code",
   "execution_count": 28,
   "metadata": {},
   "outputs": [],
   "source": [
    "# input 이미지를 5분할하는 함수\n",
    "def image_crop(file, image_width, image_height, cropped_width, cropped_height):\n",
    "    cropped_images = []\n",
    "    x = 0\n",
    "    x_center = image_width // 2\n",
    "    y_center = image_height // 2\n",
    "    \n",
    "    while x < image_width:\n",
    "        y = 0\n",
    "        while y < image_height:\n",
    "            cropped_image = file[x : x + cropped_width, y : y + cropped_height]\n",
    "            cropped_images.append(cropped_image)\n",
    "            y += cropped_height\n",
    "        x += cropped_width\n",
    "    \n",
    "    center_image = file[x_center - cropped_width // 2 : x_center + cropped_width // 2,\n",
    "                       y_center - cropped_height // 2 : y_center + cropped_height // 2]\n",
    "    \n",
    "    cropped_images.append(center_image)\n",
    "    \n",
    "    return cropped_images"
   ]
  },
  {
   "cell_type": "code",
   "execution_count": 29,
   "metadata": {},
   "outputs": [],
   "source": [
    "# 이미지를 조작하고 다룰 수 있게 처리해주는 함수\n",
    "def data_generator(file, image_width, image_height):\n",
    "    img_bgr = cv2.imread(file, cv2.IMREAD_COLOR)\n",
    "    img_rgb = cv2.cvtColor(img_bgr, cv2.COLOR_BGR2RGB)\n",
    "    img = cv2.resize(img_rgb, (image_width, image_height))\n",
    "\n",
    "    return img"
   ]
  },
  {
   "cell_type": "code",
   "execution_count": 30,
   "metadata": {},
   "outputs": [],
   "source": [
    "import cv2\n",
    "import os, glob, numpy as np\n",
    "from tensorflow.keras.models import load_model\n",
    "import tensorflow as tf\n",
    "import pandas as pd\n",
    "\n",
    "img_dir = './binary_cnn_majority/test'\n",
    "categories = ['ad', 'non_ad']\n",
    "\n",
    "image_width = 120 # 사이즈 수정\n",
    "image_height = 120\n",
    "\n",
    "X = [] # 5분할 한 input 이미지\n",
    "y = [] # input의 실제 분류 값 * 5\n",
    "X_original = [] # input 이미지\n",
    "y_original = [] # input의 실제 분류 값\n",
    "index = []\n",
    "files = []\n",
    "filenames = []\n",
    "\n",
    "n = 1\n",
    "df = pd.DataFrame(index=['img_num'], columns=['y', 'pred', 'X_0', 'X_1', 'X_2', 'X_3', 'X_4', 'category'])\n",
    "# y는 실제 분류 값, pred는 모델이 예측한 값\n",
    "\n",
    "for i, category in enumerate(categories):\n",
    "    img_detail = img_dir + '/' + category\n",
    "\n",
    "    files.append(glob.glob(img_detail + \"/*.jpg\"))\n",
    "    index.append(i)"
   ]
  },
  {
   "cell_type": "code",
   "execution_count": 31,
   "metadata": {},
   "outputs": [
    {
     "name": "stdout",
     "output_type": "stream",
     "text": [
      "3480 3480\n",
      "696 696\n",
      "           y pred  X_0  X_1  X_2  X_3  X_4 category\n",
      "img_num  NaN  NaN  NaN  NaN  NaN  NaN  NaN      NaN\n",
      "1          0  NaN  NaN  NaN  NaN  NaN  NaN      NaN\n",
      "2          0  NaN  NaN  NaN  NaN  NaN  NaN      NaN\n",
      "3          0  NaN  NaN  NaN  NaN  NaN  NaN      NaN\n",
      "4          0  NaN  NaN  NaN  NaN  NaN  NaN      NaN\n",
      "...      ...  ...  ...  ...  ...  ...  ...      ...\n",
      "692        1  NaN  NaN  NaN  NaN  NaN  NaN      NaN\n",
      "693        1  NaN  NaN  NaN  NaN  NaN  NaN      NaN\n",
      "694        1  NaN  NaN  NaN  NaN  NaN  NaN      NaN\n",
      "695        1  NaN  NaN  NaN  NaN  NaN  NaN      NaN\n",
      "696        1  NaN  NaN  NaN  NaN  NaN  NaN      NaN\n",
      "\n",
      "[697 rows x 8 columns]\n"
     ]
    }
   ],
   "source": [
    "for file, i in zip(files, index):\n",
    "    for f in file:\n",
    "        try:\n",
    "            img = data_generator(f, image_width, image_height)\n",
    "        \n",
    "            original_data = np.asarray(img)\n",
    "            X_original.append(original_data)\n",
    "            y_original.append(i)\n",
    "\n",
    "            df.loc[n, 'y'] = i\n",
    "            n += 1\n",
    "\n",
    "            cropped_images = image_crop(img, image_width, image_height, image_width // 2, image_height // 2)\n",
    "\n",
    "            for cropped_image in cropped_images:\n",
    "                data = np.asarray(cropped_image)\n",
    "\n",
    "                head, tail = os.path.split(f)\n",
    "                filenames.append(tail)\n",
    "\n",
    "                X.append(data)\n",
    "                y.append(i)\n",
    "                \n",
    "        except Exception as e:\n",
    "            print(i,'번째에서 에러')\n",
    "\n",
    "X = np.array(X)\n",
    "y = np.array(y)\n",
    "X_original = np.array(X_original)\n",
    "y_original = np.array(y_original)\n",
    "\n",
    "X = X.astype('float32') / 255\n",
    "\n",
    "print(len(X), len(y))\n",
    "print(len(X_original), len(y_original))\n",
    "\n",
    "\"\"\"인자 바꾸기\"\"\"\n",
    "\n",
    "print(df)"
   ]
  },
  {
   "cell_type": "code",
   "execution_count": 32,
   "metadata": {},
   "outputs": [],
   "source": [
    "def print_scores(X, y, prediction):\n",
    "    print('confusion matrix 결과')\n",
    "    print(confusion_matrix(y, prediction, labels=[0, 1])) # 0: 광고, 1: 비광고\n",
    "\n",
    "    print('precision 개별값')\n",
    "    print(list(map('{:2.2f}%'.format, precision_score(y, prediction, average=None) * 100))) # precision 개별 값\n",
    "    print('recall 개별값')\n",
    "    print(list(map('{:2.2f}%'.format, recall_score(y, prediction, average=None) * 100)))\n",
    "\n",
    "    \n",
    "    print('f1 점수')\n",
    "    print('{:2.2f}%'.format(f1_score(y, prediction, average='macro') * 100))\n",
    "\n",
    "    print('precision 평균값')\n",
    "    print('{:2.2f}%'.format(precision_score(y, prediction, average='macro') * 100)) # precision 평균 값\n",
    "    \n",
    "    print('recall 평균값')\n",
    "    print('{:2.2f}%'.format(recall_score(y, prediction, average='macro') * 100))"
   ]
  },
  {
   "cell_type": "code",
   "execution_count": 33,
   "metadata": {},
   "outputs": [],
   "source": [
    "import pandas as pd\n",
    "from sklearn.metrics import confusion_matrix\n",
    "from sklearn.metrics import recall_score\n",
    "from sklearn.metrics import precision_score\n",
    "from sklearn.metrics import f1_score\n",
    "\n",
    "\n",
    "model_evaluate = []\n",
    "f1 = []\n",
    "precision = []\n",
    "recall = []\n",
    "\n",
    "\n",
    "model = load_model('./binary_cnn_majority/model/size/binary_model_saved_i120.h5') # 모델 경로 수정\n",
    "\n",
    "prediction = model.predict(X)\n",
    "np.set_printoptions(formatter={'float': lambda x: \"{0:0.3f}\".format(x)}) # 소수점 3자리까지 표기\n",
    "\n",
    "prediction_original = []    \n",
    "count = []\n",
    "\n",
    "n = 1\n",
    "\n",
    "# print(prediction)\n",
    "# print(prediction.shape)"
   ]
  },
  {
   "cell_type": "code",
   "execution_count": 34,
   "metadata": {},
   "outputs": [
    {
     "name": "stdout",
     "output_type": "stream",
     "text": [
      "투표 결과\n",
      "696 696\n",
      "confusion matrix 결과\n",
      "[[300  68]\n",
      " [ 35 293]]\n",
      "precision 개별값\n",
      "['89.55%', '81.16%']\n",
      "recall 개별값\n",
      "['81.52%', '89.33%']\n",
      "f1 점수\n",
      "85.20%\n",
      "precision 평균값\n",
      "85.36%\n",
      "recall 평균값\n",
      "85.43%\n"
     ]
    }
   ],
   "source": [
    "for p in prediction:\n",
    "    is_ad = 0\n",
    "    not_ad = 0\n",
    "    amax = []\n",
    "\n",
    "    count.append(p)\n",
    "    \n",
    "    if(len(count) == 1):\n",
    "        df.loc[n, 'X_0'] = p\n",
    "        continue\n",
    "\n",
    "    elif(len(count) == 2):\n",
    "        df.loc[n, 'X_1'] = p\n",
    "        continue\n",
    "        \n",
    "    elif(len(count) == 3):\n",
    "        df.loc[n, 'X_2'] = p\n",
    "        continue    \n",
    "        \n",
    "    elif(len(count) == 4):\n",
    "        df.loc[n, 'X_3'] = p\n",
    "        continue\n",
    "        \n",
    "    elif len(count) == 5:\n",
    "        df.loc[n, 'X_4'] = p\n",
    "        \n",
    "        for c in count:\n",
    "            amax.append(c.round())\n",
    "            if c.round() == 0:\n",
    "                is_ad += 1\n",
    "            elif c.round() == 1:\n",
    "                not_ad += 1\n",
    "\n",
    "        if is_ad > not_ad:\n",
    "            prediction_original.append(0)\n",
    "    \n",
    "            df.loc[n, 'pred'] = 0\n",
    "            n += 1\n",
    "            \n",
    "        else:\n",
    "            prediction_original.append(1)\n",
    "            \n",
    "            df.loc[n, 'pred'] = 1\n",
    "            n += 1\n",
    "\n",
    "        count = []\n",
    "\n",
    "\n",
    "print('투표 결과')\n",
    "print(len(y_original), len(prediction_original))\n",
    "print_scores(X_original, y_original, prediction_original)\n",
    "precision.append(precision_score(y_original, prediction_original, average='macro') * 100)\n",
    "recall.append(recall_score(y_original, prediction_original, average='macro') * 100)\n",
    "f1.append(f1_score(y_original, prediction_original, average='macro') * 100)\n"
   ]
  },
  {
   "cell_type": "code",
   "execution_count": 29,
   "metadata": {},
   "outputs": [],
   "source": [
    "df.to_csv('./binary_cnn_majority/csv/test_prediction_i120.csv', sep=',', na_rep='NaN')"
   ]
  },
  {
   "cell_type": "markdown",
   "metadata": {},
   "source": [
    "------"
   ]
  },
  {
   "cell_type": "code",
   "execution_count": 38,
   "metadata": {},
   "outputs": [
    {
     "data": {
      "text/html": [
       "<div>\n",
       "<style scoped>\n",
       "    .dataframe tbody tr th:only-of-type {\n",
       "        vertical-align: middle;\n",
       "    }\n",
       "\n",
       "    .dataframe tbody tr th {\n",
       "        vertical-align: top;\n",
       "    }\n",
       "\n",
       "    .dataframe thead th {\n",
       "        text-align: right;\n",
       "    }\n",
       "</style>\n",
       "<table border=\"1\" class=\"dataframe\">\n",
       "  <thead>\n",
       "    <tr style=\"text-align: right;\">\n",
       "      <th></th>\n",
       "      <th>Unnamed: 0</th>\n",
       "      <th>y</th>\n",
       "      <th>pred</th>\n",
       "      <th>X_0</th>\n",
       "      <th>X_1</th>\n",
       "      <th>X_2</th>\n",
       "      <th>X_3</th>\n",
       "      <th>X_4</th>\n",
       "      <th>category</th>\n",
       "    </tr>\n",
       "  </thead>\n",
       "  <tbody>\n",
       "    <tr>\n",
       "      <th>0</th>\n",
       "      <td>img_num</td>\n",
       "      <td>NaN</td>\n",
       "      <td>NaN</td>\n",
       "      <td>NaN</td>\n",
       "      <td>NaN</td>\n",
       "      <td>NaN</td>\n",
       "      <td>NaN</td>\n",
       "      <td>NaN</td>\n",
       "      <td>NaN</td>\n",
       "    </tr>\n",
       "    <tr>\n",
       "      <th>1</th>\n",
       "      <td>1</td>\n",
       "      <td>0.0</td>\n",
       "      <td>0.0</td>\n",
       "      <td>[0.000]</td>\n",
       "      <td>[0.000]</td>\n",
       "      <td>[0.001]</td>\n",
       "      <td>[0.000]</td>\n",
       "      <td>[0.003]</td>\n",
       "      <td>lotto_N</td>\n",
       "    </tr>\n",
       "    <tr>\n",
       "      <th>2</th>\n",
       "      <td>2</td>\n",
       "      <td>0.0</td>\n",
       "      <td>0.0</td>\n",
       "      <td>[0.201]</td>\n",
       "      <td>[0.455]</td>\n",
       "      <td>[0.127]</td>\n",
       "      <td>[0.033]</td>\n",
       "      <td>[0.024]</td>\n",
       "      <td>picture</td>\n",
       "    </tr>\n",
       "    <tr>\n",
       "      <th>3</th>\n",
       "      <td>3</td>\n",
       "      <td>0.0</td>\n",
       "      <td>0.0</td>\n",
       "      <td>[0.007]</td>\n",
       "      <td>[0.000]</td>\n",
       "      <td>[0.097]</td>\n",
       "      <td>[0.000]</td>\n",
       "      <td>[0.000]</td>\n",
       "      <td>part_of_human</td>\n",
       "    </tr>\n",
       "    <tr>\n",
       "      <th>4</th>\n",
       "      <td>4</td>\n",
       "      <td>0.0</td>\n",
       "      <td>0.0</td>\n",
       "      <td>[0.000]</td>\n",
       "      <td>[0.158]</td>\n",
       "      <td>[0.000]</td>\n",
       "      <td>[0.165]</td>\n",
       "      <td>[0.000]</td>\n",
       "      <td>human</td>\n",
       "    </tr>\n",
       "  </tbody>\n",
       "</table>\n",
       "</div>"
      ],
      "text/plain": [
       "  Unnamed: 0    y  pred      X_0      X_1      X_2      X_3      X_4  \\\n",
       "0    img_num  NaN   NaN      NaN      NaN      NaN      NaN      NaN   \n",
       "1          1  0.0   0.0  [0.000]  [0.000]  [0.001]  [0.000]  [0.003]   \n",
       "2          2  0.0   0.0  [0.201]  [0.455]  [0.127]  [0.033]  [0.024]   \n",
       "3          3  0.0   0.0  [0.007]  [0.000]  [0.097]  [0.000]  [0.000]   \n",
       "4          4  0.0   0.0  [0.000]  [0.158]  [0.000]  [0.165]  [0.000]   \n",
       "\n",
       "        category  \n",
       "0            NaN  \n",
       "1        lotto_N  \n",
       "2        picture  \n",
       "3  part_of_human  \n",
       "4          human  "
      ]
     },
     "execution_count": 38,
     "metadata": {},
     "output_type": "execute_result"
    }
   ],
   "source": [
    "dataFrame = pd.read_csv('./binary_cnn_majority/csv/test_prediction_i120.csv')\n",
    "dataFrame.head()"
   ]
  },
  {
   "cell_type": "code",
   "execution_count": 39,
   "metadata": {},
   "outputs": [
    {
     "data": {
      "text/html": [
       "<div>\n",
       "<style scoped>\n",
       "    .dataframe tbody tr th:only-of-type {\n",
       "        vertical-align: middle;\n",
       "    }\n",
       "\n",
       "    .dataframe tbody tr th {\n",
       "        vertical-align: top;\n",
       "    }\n",
       "\n",
       "    .dataframe thead th {\n",
       "        text-align: right;\n",
       "    }\n",
       "</style>\n",
       "<table border=\"1\" class=\"dataframe\">\n",
       "  <thead>\n",
       "    <tr style=\"text-align: right;\">\n",
       "      <th></th>\n",
       "      <th>img_num</th>\n",
       "      <th>y</th>\n",
       "      <th>pred</th>\n",
       "      <th>X_0</th>\n",
       "      <th>X_1</th>\n",
       "      <th>X_2</th>\n",
       "      <th>X_3</th>\n",
       "      <th>X_4</th>\n",
       "      <th>category</th>\n",
       "    </tr>\n",
       "  </thead>\n",
       "  <tbody>\n",
       "    <tr>\n",
       "      <th>0</th>\n",
       "      <td>img_num</td>\n",
       "      <td>NaN</td>\n",
       "      <td>NaN</td>\n",
       "      <td>NaN</td>\n",
       "      <td>NaN</td>\n",
       "      <td>NaN</td>\n",
       "      <td>NaN</td>\n",
       "      <td>NaN</td>\n",
       "      <td>NaN</td>\n",
       "    </tr>\n",
       "    <tr>\n",
       "      <th>1</th>\n",
       "      <td>1</td>\n",
       "      <td>0.0</td>\n",
       "      <td>0.0</td>\n",
       "      <td>[0.000]</td>\n",
       "      <td>[0.000]</td>\n",
       "      <td>[0.001]</td>\n",
       "      <td>[0.000]</td>\n",
       "      <td>[0.003]</td>\n",
       "      <td>lotto_N</td>\n",
       "    </tr>\n",
       "    <tr>\n",
       "      <th>2</th>\n",
       "      <td>2</td>\n",
       "      <td>0.0</td>\n",
       "      <td>0.0</td>\n",
       "      <td>[0.201]</td>\n",
       "      <td>[0.455]</td>\n",
       "      <td>[0.127]</td>\n",
       "      <td>[0.033]</td>\n",
       "      <td>[0.024]</td>\n",
       "      <td>picture</td>\n",
       "    </tr>\n",
       "    <tr>\n",
       "      <th>3</th>\n",
       "      <td>3</td>\n",
       "      <td>0.0</td>\n",
       "      <td>0.0</td>\n",
       "      <td>[0.007]</td>\n",
       "      <td>[0.000]</td>\n",
       "      <td>[0.097]</td>\n",
       "      <td>[0.000]</td>\n",
       "      <td>[0.000]</td>\n",
       "      <td>part_of_human</td>\n",
       "    </tr>\n",
       "    <tr>\n",
       "      <th>4</th>\n",
       "      <td>4</td>\n",
       "      <td>0.0</td>\n",
       "      <td>0.0</td>\n",
       "      <td>[0.000]</td>\n",
       "      <td>[0.158]</td>\n",
       "      <td>[0.000]</td>\n",
       "      <td>[0.165]</td>\n",
       "      <td>[0.000]</td>\n",
       "      <td>human</td>\n",
       "    </tr>\n",
       "  </tbody>\n",
       "</table>\n",
       "</div>"
      ],
      "text/plain": [
       "   img_num    y  pred      X_0      X_1      X_2      X_3      X_4  \\\n",
       "0  img_num  NaN   NaN      NaN      NaN      NaN      NaN      NaN   \n",
       "1        1  0.0   0.0  [0.000]  [0.000]  [0.001]  [0.000]  [0.003]   \n",
       "2        2  0.0   0.0  [0.201]  [0.455]  [0.127]  [0.033]  [0.024]   \n",
       "3        3  0.0   0.0  [0.007]  [0.000]  [0.097]  [0.000]  [0.000]   \n",
       "4        4  0.0   0.0  [0.000]  [0.158]  [0.000]  [0.165]  [0.000]   \n",
       "\n",
       "        category  \n",
       "0            NaN  \n",
       "1        lotto_N  \n",
       "2        picture  \n",
       "3  part_of_human  \n",
       "4          human  "
      ]
     },
     "execution_count": 39,
     "metadata": {},
     "output_type": "execute_result"
    }
   ],
   "source": [
    "dataFrame.rename(columns={'Unnamed: 0' : 'img_num'}, inplace=True)\n",
    "dataFrame.head()"
   ]
  },
  {
   "cell_type": "code",
   "execution_count": 40,
   "metadata": {},
   "outputs": [
    {
     "data": {
      "text/html": [
       "<div>\n",
       "<style scoped>\n",
       "    .dataframe tbody tr th:only-of-type {\n",
       "        vertical-align: middle;\n",
       "    }\n",
       "\n",
       "    .dataframe tbody tr th {\n",
       "        vertical-align: top;\n",
       "    }\n",
       "\n",
       "    .dataframe thead th {\n",
       "        text-align: right;\n",
       "    }\n",
       "</style>\n",
       "<table border=\"1\" class=\"dataframe\">\n",
       "  <thead>\n",
       "    <tr style=\"text-align: right;\">\n",
       "      <th></th>\n",
       "      <th>img_num</th>\n",
       "      <th>y</th>\n",
       "      <th>pred</th>\n",
       "      <th>X_0</th>\n",
       "      <th>X_1</th>\n",
       "      <th>X_2</th>\n",
       "      <th>X_3</th>\n",
       "      <th>X_4</th>\n",
       "      <th>category</th>\n",
       "    </tr>\n",
       "  </thead>\n",
       "  <tbody>\n",
       "    <tr>\n",
       "      <th>1</th>\n",
       "      <td>1</td>\n",
       "      <td>0.0</td>\n",
       "      <td>0.0</td>\n",
       "      <td>[0.000]</td>\n",
       "      <td>[0.000]</td>\n",
       "      <td>[0.001]</td>\n",
       "      <td>[0.000]</td>\n",
       "      <td>[0.003]</td>\n",
       "      <td>lotto_N</td>\n",
       "    </tr>\n",
       "    <tr>\n",
       "      <th>2</th>\n",
       "      <td>2</td>\n",
       "      <td>0.0</td>\n",
       "      <td>0.0</td>\n",
       "      <td>[0.201]</td>\n",
       "      <td>[0.455]</td>\n",
       "      <td>[0.127]</td>\n",
       "      <td>[0.033]</td>\n",
       "      <td>[0.024]</td>\n",
       "      <td>picture</td>\n",
       "    </tr>\n",
       "    <tr>\n",
       "      <th>3</th>\n",
       "      <td>3</td>\n",
       "      <td>0.0</td>\n",
       "      <td>0.0</td>\n",
       "      <td>[0.007]</td>\n",
       "      <td>[0.000]</td>\n",
       "      <td>[0.097]</td>\n",
       "      <td>[0.000]</td>\n",
       "      <td>[0.000]</td>\n",
       "      <td>part_of_human</td>\n",
       "    </tr>\n",
       "    <tr>\n",
       "      <th>4</th>\n",
       "      <td>4</td>\n",
       "      <td>0.0</td>\n",
       "      <td>0.0</td>\n",
       "      <td>[0.000]</td>\n",
       "      <td>[0.158]</td>\n",
       "      <td>[0.000]</td>\n",
       "      <td>[0.165]</td>\n",
       "      <td>[0.000]</td>\n",
       "      <td>human</td>\n",
       "    </tr>\n",
       "    <tr>\n",
       "      <th>5</th>\n",
       "      <td>5</td>\n",
       "      <td>0.0</td>\n",
       "      <td>0.0</td>\n",
       "      <td>[0.683]</td>\n",
       "      <td>[0.299]</td>\n",
       "      <td>[0.249]</td>\n",
       "      <td>[0.201]</td>\n",
       "      <td>[0.670]</td>\n",
       "      <td>graph</td>\n",
       "    </tr>\n",
       "  </tbody>\n",
       "</table>\n",
       "</div>"
      ],
      "text/plain": [
       "  img_num    y  pred      X_0      X_1      X_2      X_3      X_4  \\\n",
       "1       1  0.0   0.0  [0.000]  [0.000]  [0.001]  [0.000]  [0.003]   \n",
       "2       2  0.0   0.0  [0.201]  [0.455]  [0.127]  [0.033]  [0.024]   \n",
       "3       3  0.0   0.0  [0.007]  [0.000]  [0.097]  [0.000]  [0.000]   \n",
       "4       4  0.0   0.0  [0.000]  [0.158]  [0.000]  [0.165]  [0.000]   \n",
       "5       5  0.0   0.0  [0.683]  [0.299]  [0.249]  [0.201]  [0.670]   \n",
       "\n",
       "        category  \n",
       "1        lotto_N  \n",
       "2        picture  \n",
       "3  part_of_human  \n",
       "4          human  \n",
       "5          graph  "
      ]
     },
     "execution_count": 40,
     "metadata": {},
     "output_type": "execute_result"
    }
   ],
   "source": [
    "dataFrame.drop(0, axis=0, inplace=True)\n",
    "dataFrame.head()"
   ]
  },
  {
   "cell_type": "code",
   "execution_count": 41,
   "metadata": {},
   "outputs": [
    {
     "data": {
      "text/html": [
       "<div>\n",
       "<style scoped>\n",
       "    .dataframe tbody tr th:only-of-type {\n",
       "        vertical-align: middle;\n",
       "    }\n",
       "\n",
       "    .dataframe tbody tr th {\n",
       "        vertical-align: top;\n",
       "    }\n",
       "\n",
       "    .dataframe thead th {\n",
       "        text-align: right;\n",
       "    }\n",
       "</style>\n",
       "<table border=\"1\" class=\"dataframe\">\n",
       "  <thead>\n",
       "    <tr style=\"text-align: right;\">\n",
       "      <th></th>\n",
       "      <th>img_num</th>\n",
       "      <th>y</th>\n",
       "      <th>pred</th>\n",
       "      <th>X_0</th>\n",
       "      <th>X_1</th>\n",
       "      <th>X_2</th>\n",
       "      <th>X_3</th>\n",
       "      <th>X_4</th>\n",
       "      <th>category</th>\n",
       "      <th>unmatch</th>\n",
       "    </tr>\n",
       "  </thead>\n",
       "  <tbody>\n",
       "    <tr>\n",
       "      <th>1</th>\n",
       "      <td>1</td>\n",
       "      <td>0.0</td>\n",
       "      <td>0.0</td>\n",
       "      <td>[0.000]</td>\n",
       "      <td>[0.000]</td>\n",
       "      <td>[0.001]</td>\n",
       "      <td>[0.000]</td>\n",
       "      <td>[0.003]</td>\n",
       "      <td>lotto_N</td>\n",
       "      <td>0.0</td>\n",
       "    </tr>\n",
       "    <tr>\n",
       "      <th>2</th>\n",
       "      <td>2</td>\n",
       "      <td>0.0</td>\n",
       "      <td>0.0</td>\n",
       "      <td>[0.201]</td>\n",
       "      <td>[0.455]</td>\n",
       "      <td>[0.127]</td>\n",
       "      <td>[0.033]</td>\n",
       "      <td>[0.024]</td>\n",
       "      <td>picture</td>\n",
       "      <td>0.0</td>\n",
       "    </tr>\n",
       "    <tr>\n",
       "      <th>3</th>\n",
       "      <td>3</td>\n",
       "      <td>0.0</td>\n",
       "      <td>0.0</td>\n",
       "      <td>[0.007]</td>\n",
       "      <td>[0.000]</td>\n",
       "      <td>[0.097]</td>\n",
       "      <td>[0.000]</td>\n",
       "      <td>[0.000]</td>\n",
       "      <td>part_of_human</td>\n",
       "      <td>0.0</td>\n",
       "    </tr>\n",
       "    <tr>\n",
       "      <th>4</th>\n",
       "      <td>4</td>\n",
       "      <td>0.0</td>\n",
       "      <td>0.0</td>\n",
       "      <td>[0.000]</td>\n",
       "      <td>[0.158]</td>\n",
       "      <td>[0.000]</td>\n",
       "      <td>[0.165]</td>\n",
       "      <td>[0.000]</td>\n",
       "      <td>human</td>\n",
       "      <td>0.0</td>\n",
       "    </tr>\n",
       "    <tr>\n",
       "      <th>5</th>\n",
       "      <td>5</td>\n",
       "      <td>0.0</td>\n",
       "      <td>0.0</td>\n",
       "      <td>[0.683]</td>\n",
       "      <td>[0.299]</td>\n",
       "      <td>[0.249]</td>\n",
       "      <td>[0.201]</td>\n",
       "      <td>[0.670]</td>\n",
       "      <td>graph</td>\n",
       "      <td>0.0</td>\n",
       "    </tr>\n",
       "  </tbody>\n",
       "</table>\n",
       "</div>"
      ],
      "text/plain": [
       "  img_num    y  pred      X_0      X_1      X_2      X_3      X_4  \\\n",
       "1       1  0.0   0.0  [0.000]  [0.000]  [0.001]  [0.000]  [0.003]   \n",
       "2       2  0.0   0.0  [0.201]  [0.455]  [0.127]  [0.033]  [0.024]   \n",
       "3       3  0.0   0.0  [0.007]  [0.000]  [0.097]  [0.000]  [0.000]   \n",
       "4       4  0.0   0.0  [0.000]  [0.158]  [0.000]  [0.165]  [0.000]   \n",
       "5       5  0.0   0.0  [0.683]  [0.299]  [0.249]  [0.201]  [0.670]   \n",
       "\n",
       "        category  unmatch  \n",
       "1        lotto_N      0.0  \n",
       "2        picture      0.0  \n",
       "3  part_of_human      0.0  \n",
       "4          human      0.0  \n",
       "5          graph      0.0  "
      ]
     },
     "execution_count": 41,
     "metadata": {},
     "output_type": "execute_result"
    }
   ],
   "source": [
    "dataFrame['unmatch'] = dataFrame['pred'] - dataFrame['y']\n",
    "dataFrame.head()"
   ]
  },
  {
   "cell_type": "code",
   "execution_count": 42,
   "metadata": {},
   "outputs": [
    {
     "data": {
      "text/plain": [
       " 0.0    593\n",
       " 1.0     68\n",
       "-1.0     35\n",
       "Name: unmatch, dtype: int64"
      ]
     },
     "execution_count": 42,
     "metadata": {},
     "output_type": "execute_result"
    }
   ],
   "source": [
    "dataFrame['unmatch'].value_counts()"
   ]
  },
  {
   "cell_type": "code",
   "execution_count": 43,
   "metadata": {},
   "outputs": [
    {
     "data": {
      "text/plain": [
       "non_ad             328\n",
       "picture             42\n",
       "human               40\n",
       "photoshop           39\n",
       "part_of_human       36\n",
       "bill                33\n",
       "lotto_P             31\n",
       "general_product     31\n",
       "graph               30\n",
       "microbe             29\n",
       "lotto_N             29\n",
       "coin                28\n",
       "Name: category, dtype: int64"
      ]
     },
     "execution_count": 43,
     "metadata": {},
     "output_type": "execute_result"
    }
   ],
   "source": [
    "dataFrame['category'].value_counts()"
   ]
  },
  {
   "cell_type": "code",
   "execution_count": 44,
   "metadata": {},
   "outputs": [
    {
     "data": {
      "text/plain": [
       " 0.0    593\n",
       " 1.0     68\n",
       "-1.0     35\n",
       "Name: unmatch, dtype: int64"
      ]
     },
     "execution_count": 44,
     "metadata": {},
     "output_type": "execute_result"
    }
   ],
   "source": [
    "dataFrame['unmatch'].value_counts()"
   ]
  },
  {
   "cell_type": "code",
   "execution_count": 45,
   "metadata": {},
   "outputs": [],
   "source": [
    "d = dataFrame.groupby('category')[['unmatch']].sum()"
   ]
  },
  {
   "cell_type": "code",
   "execution_count": 46,
   "metadata": {},
   "outputs": [
    {
     "data": {
      "text/html": [
       "<div>\n",
       "<style scoped>\n",
       "    .dataframe tbody tr th:only-of-type {\n",
       "        vertical-align: middle;\n",
       "    }\n",
       "\n",
       "    .dataframe tbody tr th {\n",
       "        vertical-align: top;\n",
       "    }\n",
       "\n",
       "    .dataframe thead th {\n",
       "        text-align: right;\n",
       "    }\n",
       "</style>\n",
       "<table border=\"1\" class=\"dataframe\">\n",
       "  <thead>\n",
       "    <tr style=\"text-align: right;\">\n",
       "      <th></th>\n",
       "      <th>unmatch</th>\n",
       "    </tr>\n",
       "    <tr>\n",
       "      <th>category</th>\n",
       "      <th></th>\n",
       "    </tr>\n",
       "  </thead>\n",
       "  <tbody>\n",
       "    <tr>\n",
       "      <th>bill</th>\n",
       "      <td>10.0</td>\n",
       "    </tr>\n",
       "    <tr>\n",
       "      <th>coin</th>\n",
       "      <td>7.0</td>\n",
       "    </tr>\n",
       "    <tr>\n",
       "      <th>general_product</th>\n",
       "      <td>8.0</td>\n",
       "    </tr>\n",
       "    <tr>\n",
       "      <th>graph</th>\n",
       "      <td>2.0</td>\n",
       "    </tr>\n",
       "    <tr>\n",
       "      <th>human</th>\n",
       "      <td>9.0</td>\n",
       "    </tr>\n",
       "    <tr>\n",
       "      <th>lotto_N</th>\n",
       "      <td>4.0</td>\n",
       "    </tr>\n",
       "    <tr>\n",
       "      <th>lotto_P</th>\n",
       "      <td>6.0</td>\n",
       "    </tr>\n",
       "    <tr>\n",
       "      <th>microbe</th>\n",
       "      <td>4.0</td>\n",
       "    </tr>\n",
       "    <tr>\n",
       "      <th>non_ad</th>\n",
       "      <td>-35.0</td>\n",
       "    </tr>\n",
       "    <tr>\n",
       "      <th>part_of_human</th>\n",
       "      <td>8.0</td>\n",
       "    </tr>\n",
       "    <tr>\n",
       "      <th>photoshop</th>\n",
       "      <td>4.0</td>\n",
       "    </tr>\n",
       "    <tr>\n",
       "      <th>picture</th>\n",
       "      <td>6.0</td>\n",
       "    </tr>\n",
       "  </tbody>\n",
       "</table>\n",
       "</div>"
      ],
      "text/plain": [
       "                 unmatch\n",
       "category                \n",
       "bill                10.0\n",
       "coin                 7.0\n",
       "general_product      8.0\n",
       "graph                2.0\n",
       "human                9.0\n",
       "lotto_N              4.0\n",
       "lotto_P              6.0\n",
       "microbe              4.0\n",
       "non_ad             -35.0\n",
       "part_of_human        8.0\n",
       "photoshop            4.0\n",
       "picture              6.0"
      ]
     },
     "execution_count": 46,
     "metadata": {},
     "output_type": "execute_result"
    }
   ],
   "source": [
    "d"
   ]
  },
  {
   "cell_type": "code",
   "execution_count": 47,
   "metadata": {},
   "outputs": [],
   "source": [
    "d['total'] = [33, 28, 31, 30, 40, 29, 31, 29, 328, 36, 39, 42] # 수정 필요"
   ]
  },
  {
   "cell_type": "code",
   "execution_count": 48,
   "metadata": {},
   "outputs": [
    {
     "name": "stdout",
     "output_type": "stream",
     "text": [
      "                 unmatch  total\n",
      "category                       \n",
      "bill                10.0     33\n",
      "coin                 7.0     28\n",
      "general_product      8.0     31\n",
      "graph                2.0     30\n",
      "human                9.0     40\n",
      "lotto_N              4.0     29\n",
      "lotto_P              6.0     31\n",
      "microbe              4.0     29\n",
      "non_ad              35.0    328\n",
      "part_of_human        8.0     36\n",
      "photoshop            4.0     39\n",
      "picture              6.0     42\n"
     ]
    }
   ],
   "source": [
    "d.loc['non_ad', 'unmatch'] = 35.0 # 수정 필요\n",
    "print(d)"
   ]
  },
  {
   "cell_type": "code",
   "execution_count": 49,
   "metadata": {},
   "outputs": [
    {
     "name": "stdout",
     "output_type": "stream",
     "text": [
      "                 unmatch  total     ratio\n",
      "category                                 \n",
      "bill                10.0     33  0.696970\n",
      "coin                 7.0     28  0.750000\n",
      "general_product      8.0     31  0.741935\n",
      "graph                2.0     30  0.933333\n",
      "human                9.0     40  0.775000\n",
      "lotto_N              4.0     29  0.862069\n",
      "lotto_P              6.0     31  0.806452\n",
      "microbe              4.0     29  0.862069\n",
      "non_ad              35.0    328  0.893293\n",
      "part_of_human        8.0     36  0.777778\n",
      "photoshop            4.0     39  0.897436\n",
      "picture              6.0     42  0.857143\n"
     ]
    }
   ],
   "source": [
    "d['ratio'] = 1 - (d['unmatch'] / d['total'])\n",
    "print(d)"
   ]
  },
  {
   "cell_type": "code",
   "execution_count": 19,
   "metadata": {},
   "outputs": [],
   "source": [
    "import matplotlib.pyplot as plt\n",
    "import seaborn as sns"
   ]
  },
  {
   "cell_type": "code",
   "execution_count": 21,
   "metadata": {},
   "outputs": [
    {
     "data": {
      "text/plain": [
       "<BarContainer object of 12 artists>"
      ]
     },
     "execution_count": 21,
     "metadata": {},
     "output_type": "execute_result"
    },
    {
     "data": {
      "image/png": "[encoded data removed]",
      "text/plain": [
       "<Figure size 864x432 with 1 Axes>"
      ]
     },
     "metadata": {
      "needs_background": "light"
     },
     "output_type": "display_data"
    }
   ],
   "source": [
    "# 각 카테고리별 정확도(정답인 것의 수)\n",
    "plt.figure(figsize=(12, 6))\n",
    "plt.axhline(0.9, color='red')\n",
    "plt.text(0.01, 0.85, '0.9', color='red')\n",
    "plt.axhline(0.8, color='red')\n",
    "plt.text(0.01, 0.75, '0.8', color='red')\n",
    "plt.axhline(0.7, color='red')\n",
    "plt.text(0.01, 0.65, '0.7', color='red')\n",
    "plt.title('correct_ratio')\n",
    "plt.bar(d.index, d['ratio'])"
   ]
  },
  {
   "cell_type": "code",
   "execution_count": 50,
   "metadata": {},
   "outputs": [],
   "source": [
    "u = dataFrame.loc[dataFrame['y'] != dataFrame['pred']]"
   ]
  },
  {
   "cell_type": "code",
   "execution_count": 23,
   "metadata": {},
   "outputs": [
    {
     "name": "stdout",
     "output_type": "stream",
     "text": [
      "non_ad             35\n",
      "bill               10\n",
      "human               9\n",
      "general_product     8\n",
      "part_of_human       8\n",
      "coin                7\n",
      "lotto_P             6\n",
      "picture             6\n",
      "photoshop           4\n",
      "microbe             4\n",
      "lotto_N             4\n",
      "graph               2\n",
      "Name: category, dtype: int64\n"
     ]
    }
   ],
   "source": [
    "cnt = u['category'].value_counts()\n",
    "print(cnt)"
   ]
  },
  {
   "cell_type": "code",
   "execution_count": 24,
   "metadata": {},
   "outputs": [
    {
     "data": {
      "text/plain": [
       "([<matplotlib.patches.Wedge at 0x1c7ce8b7760>,\n",
       "  <matplotlib.patches.Wedge at 0x1c7ce8b7e20>,\n",
       "  <matplotlib.patches.Wedge at 0x1c7ce8c74f0>,\n",
       "  <matplotlib.patches.Wedge at 0x1c7ce8c7b80>,\n",
       "  <matplotlib.patches.Wedge at 0x1c7ce8d4250>,\n",
       "  <matplotlib.patches.Wedge at 0x1c7ce8d4910>,\n",
       "  <matplotlib.patches.Wedge at 0x1c7ce8d4fa0>,\n",
       "  <matplotlib.patches.Wedge at 0x1c7ce8e1670>,\n",
       "  <matplotlib.patches.Wedge at 0x1c7ce8e1d00>,\n",
       "  <matplotlib.patches.Wedge at 0x1c7ce8ef3d0>,\n",
       "  <matplotlib.patches.Wedge at 0x1c7ce899370>,\n",
       "  <matplotlib.patches.Wedge at 0x1c7ce8fd100>],\n",
       " [Text(0.5305170031691713, 0.9636138798026945, 'non_ad'),\n",
       "  Text(-0.840247746018027, 0.7099181116943175, 'bill'),\n",
       "  Text(-1.0918234542062502, 0.13387137425578616, 'human'),\n",
       "  Text(-1.0146552131628097, -0.4248232554857766, 'general_product'),\n",
       "  Text(-0.6970218863461025, -0.8509761982303155, 'part_of_human'),\n",
       "  Text(-0.24944360389918116, -1.0713439636614324, 'coin'),\n",
       "  Text(0.18366606821550369, -1.084558331942666, 'lotto_P'),\n",
       "  Text(0.5596566681731565, -0.9469870187966262, 'picture'),\n",
       "  Text(0.8182071618965682, -0.735212241615415, 'photoshop'),\n",
       "  Text(0.971592117913057, -0.5157603672338741, 'microbe'),\n",
       "  Text(1.0674154041107797, -0.2657524319117716, 'lotto_N'),\n",
       "  Text(1.0979539591287983, -0.06706044760809005, 'graph')],\n",
       " [Text(0.28937291081954797, 0.5256075708014697, '33.98%'),\n",
       "  Text(-0.4583169523734692, 0.3872280609241731, '9.71%'),\n",
       "  Text(-0.5955400659306818, 0.07302074959406517, '8.74%'),\n",
       "  Text(-0.5534482980888052, -0.23172177571951447, '7.77%'),\n",
       "  Text(-0.38019375618878315, -0.46416883539835385, '7.77%'),\n",
       "  Text(-0.13606014758137153, -0.5843694347244176, '6.80%'),\n",
       "  Text(0.10018149175391108, -0.5915772719687268, '5.83%'),\n",
       "  Text(0.30526727354899447, -0.5165383738890688, '5.83%'),\n",
       "  Text(0.4462948155799462, -0.4010248590629536, '3.88%'),\n",
       "  Text(0.5299593370434855, -0.2813238366730222, '3.88%'),\n",
       "  Text(0.5822265840604253, -0.1449558719518754, '3.88%'),\n",
       "  Text(0.5988839777066172, -0.03657842596804911, '1.94%')])"
      ]
     },
     "execution_count": 24,
     "metadata": {},
     "output_type": "execute_result"
    },
    {
     "data": {
      "image/png": "[encoded data removed]",
      "text/plain": [
       "<Figure size 504x504 with 1 Axes>"
      ]
     },
     "metadata": {},
     "output_type": "display_data"
    }
   ],
   "source": [
    "# 오답인 것들 중 각 카테고리의 비율\n",
    "plt.figure(figsize=(7, 7))\n",
    "plt.title('unmatch ratio')\n",
    "plt.pie(cnt.values, labels=cnt.index, autopct='%.2f%%')"
   ]
  },
  {
   "cell_type": "code",
   "execution_count": 35,
   "metadata": {},
   "outputs": [
    {
     "data": {
      "image/png": "[encoded data removed]",
      "text/plain": [
       "<Figure size 432x288 with 2 Axes>"
      ]
     },
     "metadata": {
      "needs_background": "light"
     },
     "output_type": "display_data"
    }
   ],
   "source": [
    "cm = confusion_matrix(y_original, prediction_original, labels=[0,1]) # 0: 광고, 1: 비광고\n",
    "\n",
    "plt.title('confusion matrix heatmap')\n",
    "sns.heatmap(cm, annot=True, fmt='d')\n",
    "plt.show()"
   ]
  },
  {
   "cell_type": "code",
   "execution_count": 52,
   "metadata": {},
   "outputs": [],
   "source": [
    "dataFrame.to_csv('./binary_cnn_majority/csv/test_prediction_with_unmatch_i120.csv')"
   ]
  }
 ],
 "metadata": {
  "kernelspec": {
   "display_name": "Python 3",
   "language": "python",
   "name": "python3"
  },
  "language_info": {
   "codemirror_mode": {
    "name": "ipython",
    "version": 3
   },
   "file_extension": ".py",
   "mimetype": "text/x-python",
   "name": "python",
   "nbconvert_exporter": "python",
   "pygments_lexer": "ipython3",
   "version": "3.8.5"
  }
 },
 "nbformat": 4,
 "nbformat_minor": 5
}
